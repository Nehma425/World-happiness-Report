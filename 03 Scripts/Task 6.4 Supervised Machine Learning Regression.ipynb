{
 "cells": [
  {
   "cell_type": "markdown",
   "id": "0087b3e0",
   "metadata": {},
   "source": [
    "6.4 Machine Learning Part 1\n",
    "\n",
    "This script contains the following:\n",
    "\n",
    "1. Importing libraries and data\n",
    "2. Data cleaning\n",
    "3. Data prep for regression analysis\n",
    "4. Regression analysis\n",
    "\n"
   ]
  },
  {
   "cell_type": "markdown",
   "id": "4ab9b826",
   "metadata": {},
   "source": [
    "1. Importing libraries and data"
   ]
  },
  {
   "cell_type": "code",
   "execution_count": 1,
   "id": "26f98cfd",
   "metadata": {},
   "outputs": [],
   "source": [
    "import pandas as pd\n",
    "import numpy as np\n",
    "import seaborn as sns\n",
    "import matplotlib\n",
    "import matplotlib.pyplot as plt\n",
    "import os\n",
    "import sklearn\n",
    "from sklearn.model_selection import train_test_split \n",
    "from sklearn.linear_model import LinearRegression\n",
    "from sklearn.metrics import mean_squared_error, r2_score"
   ]
  },
  {
   "cell_type": "code",
   "execution_count": 2,
   "id": "cf1fb6b9",
   "metadata": {},
   "outputs": [],
   "source": [
    "# This option ensures that the graphs you create are displayed within the notebook without the need to \"call\" them specifically.\n",
    "\n",
    "%matplotlib inline"
   ]
  },
  {
   "cell_type": "code",
   "execution_count": 3,
   "id": "76c8f70b",
   "metadata": {},
   "outputs": [],
   "source": [
    "path= r'C:\\Users\\nehma\\OneDrive\\Desktop\\CF Project'"
   ]
  },
  {
   "cell_type": "code",
   "execution_count": 4,
   "id": "5c0b68ed",
   "metadata": {},
   "outputs": [
    {
     "data": {
      "text/plain": [
       "'C:\\\\Users\\\\nehma\\\\OneDrive\\\\Desktop\\\\CF Project'"
      ]
     },
     "execution_count": 4,
     "metadata": {},
     "output_type": "execute_result"
    }
   ],
   "source": [
    "path"
   ]
  },
  {
   "cell_type": "code",
   "execution_count": 5,
   "id": "e8dafae7",
   "metadata": {},
   "outputs": [],
   "source": [
    "df = pd.read_csv(os.path.join(path,'02 Data', 'Prepared Data', 'merge_all_years.csv'))  "
   ]
  },
  {
   "cell_type": "markdown",
   "id": "973b30e7",
   "metadata": {},
   "source": [
    "2.Data Cleaning"
   ]
  },
  {
   "cell_type": "code",
   "execution_count": 6,
   "id": "86f80ee9",
   "metadata": {
    "scrolled": true
   },
   "outputs": [
    {
     "data": {
      "text/plain": [
       "Index(['Unnamed: 0', 'Country', 'Region', 'Year', 'Happiness_rank',\n",
       "       'Happiness_score', 'GDP_capita', 'Family', 'Life_expectancy', 'Freedom',\n",
       "       'Gov_trust', 'Generosity', 'Dystopia_residual'],\n",
       "      dtype='object')"
      ]
     },
     "execution_count": 6,
     "metadata": {},
     "output_type": "execute_result"
    }
   ],
   "source": [
    "df.columns"
   ]
  },
  {
   "cell_type": "code",
   "execution_count": 7,
   "id": "e3918a2f",
   "metadata": {},
   "outputs": [
    {
     "data": {
      "text/html": [
       "<div>\n",
       "<style scoped>\n",
       "    .dataframe tbody tr th:only-of-type {\n",
       "        vertical-align: middle;\n",
       "    }\n",
       "\n",
       "    .dataframe tbody tr th {\n",
       "        vertical-align: top;\n",
       "    }\n",
       "\n",
       "    .dataframe thead th {\n",
       "        text-align: right;\n",
       "    }\n",
       "</style>\n",
       "<table border=\"1\" class=\"dataframe\">\n",
       "  <thead>\n",
       "    <tr style=\"text-align: right;\">\n",
       "      <th></th>\n",
       "      <th>Unnamed: 0</th>\n",
       "      <th>Country</th>\n",
       "      <th>Region</th>\n",
       "      <th>Year</th>\n",
       "      <th>Happiness_rank</th>\n",
       "      <th>Happiness_score</th>\n",
       "      <th>GDP_capita</th>\n",
       "      <th>Family</th>\n",
       "      <th>Life_expectancy</th>\n",
       "      <th>Freedom</th>\n",
       "      <th>Gov_trust</th>\n",
       "      <th>Generosity</th>\n",
       "      <th>Dystopia_residual</th>\n",
       "    </tr>\n",
       "  </thead>\n",
       "  <tbody>\n",
       "    <tr>\n",
       "      <th>0</th>\n",
       "      <td>0</td>\n",
       "      <td>Afghanistan</td>\n",
       "      <td>Southern Asia</td>\n",
       "      <td>2015</td>\n",
       "      <td>153</td>\n",
       "      <td>3.575</td>\n",
       "      <td>0.31982</td>\n",
       "      <td>0.30285</td>\n",
       "      <td>0.30335</td>\n",
       "      <td>0.23414</td>\n",
       "      <td>0.09719</td>\n",
       "      <td>0.36510</td>\n",
       "      <td>1.95210</td>\n",
       "    </tr>\n",
       "    <tr>\n",
       "      <th>1</th>\n",
       "      <td>1</td>\n",
       "      <td>Albania</td>\n",
       "      <td>Central and Eastern Europe</td>\n",
       "      <td>2015</td>\n",
       "      <td>95</td>\n",
       "      <td>4.959</td>\n",
       "      <td>0.87867</td>\n",
       "      <td>0.80434</td>\n",
       "      <td>0.81325</td>\n",
       "      <td>0.35733</td>\n",
       "      <td>0.06413</td>\n",
       "      <td>0.14272</td>\n",
       "      <td>1.89894</td>\n",
       "    </tr>\n",
       "    <tr>\n",
       "      <th>2</th>\n",
       "      <td>2</td>\n",
       "      <td>Algeria</td>\n",
       "      <td>Middle East and Northern Africa</td>\n",
       "      <td>2015</td>\n",
       "      <td>68</td>\n",
       "      <td>5.605</td>\n",
       "      <td>0.93929</td>\n",
       "      <td>1.07772</td>\n",
       "      <td>0.61766</td>\n",
       "      <td>0.28579</td>\n",
       "      <td>0.17383</td>\n",
       "      <td>0.07822</td>\n",
       "      <td>2.43209</td>\n",
       "    </tr>\n",
       "    <tr>\n",
       "      <th>3</th>\n",
       "      <td>3</td>\n",
       "      <td>Angola</td>\n",
       "      <td>Sub-Saharan Africa</td>\n",
       "      <td>2015</td>\n",
       "      <td>137</td>\n",
       "      <td>4.033</td>\n",
       "      <td>0.75778</td>\n",
       "      <td>0.86040</td>\n",
       "      <td>0.16683</td>\n",
       "      <td>0.10384</td>\n",
       "      <td>0.07122</td>\n",
       "      <td>0.12344</td>\n",
       "      <td>1.94939</td>\n",
       "    </tr>\n",
       "    <tr>\n",
       "      <th>4</th>\n",
       "      <td>4</td>\n",
       "      <td>Argentina</td>\n",
       "      <td>Latin America and Caribbean</td>\n",
       "      <td>2015</td>\n",
       "      <td>30</td>\n",
       "      <td>6.574</td>\n",
       "      <td>1.05351</td>\n",
       "      <td>1.24823</td>\n",
       "      <td>0.78723</td>\n",
       "      <td>0.44974</td>\n",
       "      <td>0.08484</td>\n",
       "      <td>0.11451</td>\n",
       "      <td>2.83600</td>\n",
       "    </tr>\n",
       "  </tbody>\n",
       "</table>\n",
       "</div>"
      ],
      "text/plain": [
       "   Unnamed: 0      Country                           Region  Year  \\\n",
       "0           0  Afghanistan                    Southern Asia  2015   \n",
       "1           1      Albania       Central and Eastern Europe  2015   \n",
       "2           2      Algeria  Middle East and Northern Africa  2015   \n",
       "3           3       Angola               Sub-Saharan Africa  2015   \n",
       "4           4    Argentina      Latin America and Caribbean  2015   \n",
       "\n",
       "   Happiness_rank  Happiness_score  GDP_capita   Family  Life_expectancy  \\\n",
       "0             153            3.575     0.31982  0.30285          0.30335   \n",
       "1              95            4.959     0.87867  0.80434          0.81325   \n",
       "2              68            5.605     0.93929  1.07772          0.61766   \n",
       "3             137            4.033     0.75778  0.86040          0.16683   \n",
       "4              30            6.574     1.05351  1.24823          0.78723   \n",
       "\n",
       "   Freedom  Gov_trust  Generosity  Dystopia_residual  \n",
       "0  0.23414    0.09719     0.36510            1.95210  \n",
       "1  0.35733    0.06413     0.14272            1.89894  \n",
       "2  0.28579    0.17383     0.07822            2.43209  \n",
       "3  0.10384    0.07122     0.12344            1.94939  \n",
       "4  0.44974    0.08484     0.11451            2.83600  "
      ]
     },
     "execution_count": 7,
     "metadata": {},
     "output_type": "execute_result"
    }
   ],
   "source": [
    "df.head()"
   ]
  },
  {
   "cell_type": "code",
   "execution_count": 8,
   "id": "9a9b517d",
   "metadata": {},
   "outputs": [],
   "source": [
    "# Dropping columns and creating data subset \n",
    "df = df.drop(['Unnamed: 0'], axis=1, errors='ignore')"
   ]
  },
  {
   "cell_type": "code",
   "execution_count": 9,
   "id": "31206200",
   "metadata": {},
   "outputs": [
    {
     "data": {
      "text/html": [
       "<div>\n",
       "<style scoped>\n",
       "    .dataframe tbody tr th:only-of-type {\n",
       "        vertical-align: middle;\n",
       "    }\n",
       "\n",
       "    .dataframe tbody tr th {\n",
       "        vertical-align: top;\n",
       "    }\n",
       "\n",
       "    .dataframe thead th {\n",
       "        text-align: right;\n",
       "    }\n",
       "</style>\n",
       "<table border=\"1\" class=\"dataframe\">\n",
       "  <thead>\n",
       "    <tr style=\"text-align: right;\">\n",
       "      <th></th>\n",
       "      <th>Country</th>\n",
       "      <th>Region</th>\n",
       "      <th>Year</th>\n",
       "      <th>Happiness_rank</th>\n",
       "      <th>Happiness_score</th>\n",
       "      <th>GDP_capita</th>\n",
       "      <th>Family</th>\n",
       "      <th>Life_expectancy</th>\n",
       "      <th>Freedom</th>\n",
       "      <th>Gov_trust</th>\n",
       "      <th>Generosity</th>\n",
       "      <th>Dystopia_residual</th>\n",
       "    </tr>\n",
       "  </thead>\n",
       "  <tbody>\n",
       "    <tr>\n",
       "      <th>0</th>\n",
       "      <td>Afghanistan</td>\n",
       "      <td>Southern Asia</td>\n",
       "      <td>2015</td>\n",
       "      <td>153</td>\n",
       "      <td>3.575</td>\n",
       "      <td>0.31982</td>\n",
       "      <td>0.30285</td>\n",
       "      <td>0.30335</td>\n",
       "      <td>0.23414</td>\n",
       "      <td>0.09719</td>\n",
       "      <td>0.36510</td>\n",
       "      <td>1.95210</td>\n",
       "    </tr>\n",
       "    <tr>\n",
       "      <th>1</th>\n",
       "      <td>Albania</td>\n",
       "      <td>Central and Eastern Europe</td>\n",
       "      <td>2015</td>\n",
       "      <td>95</td>\n",
       "      <td>4.959</td>\n",
       "      <td>0.87867</td>\n",
       "      <td>0.80434</td>\n",
       "      <td>0.81325</td>\n",
       "      <td>0.35733</td>\n",
       "      <td>0.06413</td>\n",
       "      <td>0.14272</td>\n",
       "      <td>1.89894</td>\n",
       "    </tr>\n",
       "    <tr>\n",
       "      <th>2</th>\n",
       "      <td>Algeria</td>\n",
       "      <td>Middle East and Northern Africa</td>\n",
       "      <td>2015</td>\n",
       "      <td>68</td>\n",
       "      <td>5.605</td>\n",
       "      <td>0.93929</td>\n",
       "      <td>1.07772</td>\n",
       "      <td>0.61766</td>\n",
       "      <td>0.28579</td>\n",
       "      <td>0.17383</td>\n",
       "      <td>0.07822</td>\n",
       "      <td>2.43209</td>\n",
       "    </tr>\n",
       "    <tr>\n",
       "      <th>3</th>\n",
       "      <td>Angola</td>\n",
       "      <td>Sub-Saharan Africa</td>\n",
       "      <td>2015</td>\n",
       "      <td>137</td>\n",
       "      <td>4.033</td>\n",
       "      <td>0.75778</td>\n",
       "      <td>0.86040</td>\n",
       "      <td>0.16683</td>\n",
       "      <td>0.10384</td>\n",
       "      <td>0.07122</td>\n",
       "      <td>0.12344</td>\n",
       "      <td>1.94939</td>\n",
       "    </tr>\n",
       "    <tr>\n",
       "      <th>4</th>\n",
       "      <td>Argentina</td>\n",
       "      <td>Latin America and Caribbean</td>\n",
       "      <td>2015</td>\n",
       "      <td>30</td>\n",
       "      <td>6.574</td>\n",
       "      <td>1.05351</td>\n",
       "      <td>1.24823</td>\n",
       "      <td>0.78723</td>\n",
       "      <td>0.44974</td>\n",
       "      <td>0.08484</td>\n",
       "      <td>0.11451</td>\n",
       "      <td>2.83600</td>\n",
       "    </tr>\n",
       "  </tbody>\n",
       "</table>\n",
       "</div>"
      ],
      "text/plain": [
       "       Country                           Region  Year  Happiness_rank  \\\n",
       "0  Afghanistan                    Southern Asia  2015             153   \n",
       "1      Albania       Central and Eastern Europe  2015              95   \n",
       "2      Algeria  Middle East and Northern Africa  2015              68   \n",
       "3       Angola               Sub-Saharan Africa  2015             137   \n",
       "4    Argentina      Latin America and Caribbean  2015              30   \n",
       "\n",
       "   Happiness_score  GDP_capita   Family  Life_expectancy  Freedom  Gov_trust  \\\n",
       "0            3.575     0.31982  0.30285          0.30335  0.23414    0.09719   \n",
       "1            4.959     0.87867  0.80434          0.81325  0.35733    0.06413   \n",
       "2            5.605     0.93929  1.07772          0.61766  0.28579    0.17383   \n",
       "3            4.033     0.75778  0.86040          0.16683  0.10384    0.07122   \n",
       "4            6.574     1.05351  1.24823          0.78723  0.44974    0.08484   \n",
       "\n",
       "   Generosity  Dystopia_residual  \n",
       "0     0.36510            1.95210  \n",
       "1     0.14272            1.89894  \n",
       "2     0.07822            2.43209  \n",
       "3     0.12344            1.94939  \n",
       "4     0.11451            2.83600  "
      ]
     },
     "execution_count": 9,
     "metadata": {},
     "output_type": "execute_result"
    }
   ],
   "source": [
    "df.head()"
   ]
  },
  {
   "cell_type": "code",
   "execution_count": 10,
   "id": "dd339bb7",
   "metadata": {},
   "outputs": [
    {
     "data": {
      "text/plain": [
       "(782, 12)"
      ]
     },
     "execution_count": 10,
     "metadata": {},
     "output_type": "execute_result"
    }
   ],
   "source": [
    "df.shape"
   ]
  },
  {
   "cell_type": "markdown",
   "id": "235cf54e",
   "metadata": {},
   "source": [
    "Missing Values"
   ]
  },
  {
   "cell_type": "code",
   "execution_count": 11,
   "id": "21ba2db6",
   "metadata": {},
   "outputs": [
    {
     "data": {
      "text/plain": [
       "Country                0\n",
       "Region                 0\n",
       "Year                   0\n",
       "Happiness_rank         0\n",
       "Happiness_score        0\n",
       "GDP_capita             0\n",
       "Family                 0\n",
       "Life_expectancy        0\n",
       "Freedom                0\n",
       "Gov_trust              1\n",
       "Generosity             0\n",
       "Dystopia_residual    312\n",
       "dtype: int64"
      ]
     },
     "execution_count": 11,
     "metadata": {},
     "output_type": "execute_result"
    }
   ],
   "source": [
    "# Check for missing values\n",
    "\n",
    "df.isnull().sum()\n"
   ]
  },
  {
   "cell_type": "markdown",
   "id": "7ea900ec",
   "metadata": {},
   "source": [
    "Duplicate Check"
   ]
  },
  {
   "cell_type": "code",
   "execution_count": 12,
   "id": "64262063",
   "metadata": {},
   "outputs": [],
   "source": [
    "dups = df.duplicated()"
   ]
  },
  {
   "cell_type": "code",
   "execution_count": 13,
   "id": "58e40f6e",
   "metadata": {},
   "outputs": [
    {
     "data": {
      "text/plain": [
       "(782,)"
      ]
     },
     "execution_count": 13,
     "metadata": {},
     "output_type": "execute_result"
    }
   ],
   "source": [
    "dups.shape # No dups"
   ]
  },
  {
   "cell_type": "markdown",
   "id": "e0241988",
   "metadata": {},
   "source": [
    "Extreme Value Check"
   ]
  },
  {
   "cell_type": "code",
   "execution_count": 14,
   "id": "8d1e59e9",
   "metadata": {},
   "outputs": [
    {
     "name": "stderr",
     "output_type": "stream",
     "text": [
      "C:\\Users\\nehma\\anaconda3\\Lib\\site-packages\\seaborn\\_oldcore.py:1498: FutureWarning: is_categorical_dtype is deprecated and will be removed in a future version. Use isinstance(dtype, CategoricalDtype) instead\n",
      "  if pd.api.types.is_categorical_dtype(vector):\n",
      "C:\\Users\\nehma\\anaconda3\\Lib\\site-packages\\seaborn\\_oldcore.py:1119: FutureWarning: use_inf_as_na option is deprecated and will be removed in a future version. Convert inf values to NaN before operating instead.\n",
      "  with pd.option_context('mode.use_inf_as_na', True):\n",
      "C:\\Users\\nehma\\anaconda3\\Lib\\site-packages\\seaborn\\_oldcore.py:1498: FutureWarning: is_categorical_dtype is deprecated and will be removed in a future version. Use isinstance(dtype, CategoricalDtype) instead\n",
      "  if pd.api.types.is_categorical_dtype(vector):\n",
      "C:\\Users\\nehma\\anaconda3\\Lib\\site-packages\\seaborn\\_oldcore.py:1119: FutureWarning: use_inf_as_na option is deprecated and will be removed in a future version. Convert inf values to NaN before operating instead.\n",
      "  with pd.option_context('mode.use_inf_as_na', True):\n"
     ]
    },
    {
     "data": {
      "image/png": "[encoded data removed]",
      "text/plain": [
       "<Figure size 640x480 with 1 Axes>"
      ]
     },
     "metadata": {},
     "output_type": "display_data"
    }
   ],
   "source": [
    "# Create a distribution plot for 'Life_Ladder'\n",
    "scat1 = sns.histplot(df['Happiness_score'], bins=25, kde=True, label='Happiness_score')\n",
    "\n",
    "# Create a distribution plot for 'Log_GDP_per_capita'\n",
    "scat2 = sns.histplot(df['GDP_capita'], bins=25, kde=True, label='GDP_capita') # Shows extreme values\n"
   ]
  },
  {
   "cell_type": "code",
   "execution_count": 15,
   "id": "e69734ef",
   "metadata": {},
   "outputs": [
    {
     "data": {
      "text/plain": [
       "5.379017902998722"
      ]
     },
     "execution_count": 15,
     "metadata": {},
     "output_type": "execute_result"
    }
   ],
   "source": [
    "df['Happiness_score'].mean() # Check the mean"
   ]
  },
  {
   "cell_type": "code",
   "execution_count": 16,
   "id": "bc4d6c28",
   "metadata": {},
   "outputs": [
    {
     "data": {
      "text/plain": [
       "0.9160474824757033"
      ]
     },
     "execution_count": 16,
     "metadata": {},
     "output_type": "execute_result"
    }
   ],
   "source": [
    "df['GDP_capita'].mean() # Check the mean"
   ]
  },
  {
   "cell_type": "code",
   "execution_count": 17,
   "id": "799e4ce0",
   "metadata": {},
   "outputs": [
    {
     "data": {
      "text/plain": [
       "(5.322, 0.982204709)"
      ]
     },
     "execution_count": 17,
     "metadata": {},
     "output_type": "execute_result"
    }
   ],
   "source": [
    "df['Happiness_score'].median(), df['GDP_capita'].median()"
   ]
  },
  {
   "cell_type": "code",
   "execution_count": 18,
   "id": "3ef68ea5",
   "metadata": {},
   "outputs": [
    {
     "data": {
      "text/plain": [
       "(7.769, 2.096)"
      ]
     },
     "execution_count": 18,
     "metadata": {},
     "output_type": "execute_result"
    }
   ],
   "source": [
    "df['Happiness_score'].max(), df['GDP_capita'].max()"
   ]
  },
  {
   "cell_type": "markdown",
   "id": "b259908b",
   "metadata": {},
   "source": [
    "3. Data prep for regression analysis"
   ]
  },
  {
   "cell_type": "code",
   "execution_count": 29,
   "id": "30a75b00",
   "metadata": {},
   "outputs": [
    {
     "data": {
      "image/png": "[encoded data removed]",
      "text/plain": [
       "<Figure size 640x480 with 1 Axes>"
      ]
     },
     "metadata": {},
     "output_type": "display_data"
    }
   ],
   "source": [
    "# Create a scatterplot using matplotlib for another look at how the chosen variables plot against each other.\n",
    "df.plot(x = 'GDP_capita', y='Happiness_score' ,style='o') # The style option creates a scatterplot; without it, we only have lines.\n",
    "plt.title('Happiness_score vs GDP_capita')  \n",
    "plt.xlabel('GDP_capita')  \n",
    "plt.ylabel('Happiness_score')  \n",
    "plt.show()"
   ]
  },
  {
   "cell_type": "code",
   "execution_count": 30,
   "id": "0e2ab219",
   "metadata": {},
   "outputs": [
    {
     "data": {
      "text/plain": [
       "<Figure size 640x480 with 0 Axes>"
      ]
     },
     "metadata": {},
     "output_type": "display_data"
    }
   ],
   "source": [
    "plt.savefig(os.path.join(path, '04 Analysis', 'Visualization', 'happ_vs_gdp.png'))"
   ]
  },
  {
   "cell_type": "markdown",
   "id": "3d39493e",
   "metadata": {},
   "source": [
    "Hypothesis 1: A country with elevated GDP per capita, a strong family score, and high life expectancy is likely to exhibit a correspondingly high happiness score.\n",
    "\n",
    "Null Hypothesis 1: A country with elevated GDP per capita, a strong family score, and high life expectancy is not necessarily associated with a high happiness score."
   ]
  },
  {
   "cell_type": "code",
   "execution_count": null,
   "id": "b34b83bd",
   "metadata": {},
   "outputs": [],
   "source": [
    "# Reshape the variables into NumPy arrays and put them into separate objects.\n",
    "\n",
    "X = df['GDP_capita'].values.reshape(-1,1)\n",
    "y = df['Happiness_score'].values.reshape(-1,1)"
   ]
  },
  {
   "cell_type": "code",
   "execution_count": null,
   "id": "379b2f2d",
   "metadata": {},
   "outputs": [],
   "source": [
    "X"
   ]
  },
  {
   "cell_type": "code",
   "execution_count": null,
   "id": "beedb387",
   "metadata": {},
   "outputs": [],
   "source": [
    "y"
   ]
  },
  {
   "cell_type": "code",
   "execution_count": null,
   "id": "5ac33f31",
   "metadata": {},
   "outputs": [],
   "source": [
    "# Split data into a training set and a test set.\n",
    "X_train, X_test, y_train, y_test = train_test_split(X, y, test_size=0.3, random_state=0)"
   ]
  },
  {
   "cell_type": "markdown",
   "id": "e644dcf7",
   "metadata": {},
   "source": [
    "4. Regression analysis"
   ]
  },
  {
   "cell_type": "code",
   "execution_count": null,
   "id": "282f8ce0",
   "metadata": {},
   "outputs": [],
   "source": [
    "# Create a regression object.\n",
    "\n",
    "regression = LinearRegression()  # This is the regression object, which will be fit onto the training set."
   ]
  },
  {
   "cell_type": "code",
   "execution_count": null,
   "id": "1e95428f",
   "metadata": {},
   "outputs": [],
   "source": [
    "# Check if there are NaN values in the NumPy array\n",
    "nan_indices = np.isnan(X_train)\n",
    "\n",
    "# Fill NaN values with the mean (you can use other strategies as well)\n",
    "X_train[nan_indices] = np.nanmean(X_train)"
   ]
  },
  {
   "cell_type": "code",
   "execution_count": null,
   "id": "ba3d97fb",
   "metadata": {},
   "outputs": [],
   "source": [
    "# Check if there are NaN values in the NumPy array\n",
    "nan_indices = np.isnan(X_test)\n",
    "\n",
    "# Fill NaN values with the mean (you can use other strategies as well)\n",
    "X_test[nan_indices] = np.nanmean(X_test)"
   ]
  },
  {
   "cell_type": "code",
   "execution_count": null,
   "id": "7d261e3d",
   "metadata": {},
   "outputs": [],
   "source": [
    "# Fit the regression object onto the training set.\n",
    "\n",
    "regression.fit(X_train, y_train)"
   ]
  },
  {
   "cell_type": "code",
   "execution_count": null,
   "id": "b75f4a8f",
   "metadata": {
    "scrolled": true
   },
   "outputs": [],
   "source": [
    "# Predict the values of y using X.\n",
    "\n",
    "y_predicted = regression.predict(X_test)"
   ]
  },
  {
   "cell_type": "code",
   "execution_count": null,
   "id": "c067f56d",
   "metadata": {},
   "outputs": [],
   "source": [
    "# Create a plot that shows the regression line from the model on the test set.\n",
    "plot_test = plt\n",
    "plot_test.scatter(X_test, y_test, color='gray', s = 15)\n",
    "plot_test.plot(X_test, y_predicted, color='red', linewidth =3)\n",
    "plot_test.title('GDP_capita vs Happiness_score (Test set)')\n",
    "plot_test.xlabel('GDP_capita')\n",
    "plot_test.ylabel('Happiness_score')\n",
    "plot_test.show()"
   ]
  },
  {
   "cell_type": "code",
   "execution_count": null,
   "id": "d61f5248",
   "metadata": {},
   "outputs": [],
   "source": [
    "print(np.isnan(y_test).any())\n",
    "print(np.isnan(y_predicted).any())\n",
    "#checking arrays to see if they contain NAN values"
   ]
  },
  {
   "cell_type": "code",
   "execution_count": null,
   "id": "d2f49a38",
   "metadata": {},
   "outputs": [],
   "source": [
    "# Create objects that contain the model summary statistics.\n",
    "\n",
    "rmse = mean_squared_error(y_test, y_predicted) # This is the mean squared error\n",
    "r2 = r2_score(y_test, y_predicted) # This is the R2 score. "
   ]
  },
  {
   "cell_type": "code",
   "execution_count": null,
   "id": "f5a93aea",
   "metadata": {},
   "outputs": [],
   "source": [
    "# Print the model summary statistics. This is where you evaluate the performance of the model.\n",
    "\n",
    "print('Slope:' ,regression.coef_)\n",
    "print('Mean squared error: ', rmse)\n",
    "print('R2 score: ', r2)"
   ]
  },
  {
   "cell_type": "markdown",
   "id": "65fe503d",
   "metadata": {},
   "source": [
    "The linear regression model has yielded a positive slope of approximately 2.2055, indicating a direct and positive relationship between  GDP per capita and happiness scores. The relatively low Mean Squared Error (MSE) of about 0.4645 suggests that the model's predictions closely align with the actual values on average. Furthermore, the R2 score of 0.621 indicates that the model explains approximately 62.1% of the variability in happiness scores, reflecting a moderate level of predictive accuracy."
   ]
  },
  {
   "cell_type": "code",
   "execution_count": null,
   "id": "7377daf0",
   "metadata": {},
   "outputs": [],
   "source": [
    "y_predicted"
   ]
  },
  {
   "cell_type": "code",
   "execution_count": null,
   "id": "689ae487",
   "metadata": {},
   "outputs": [],
   "source": [
    "# Create a dataframe comparing the actual and predicted values of y.\n",
    "\n",
    "data = pd.DataFrame({'Actual': y_test.flatten(), 'Predicted': y_predicted.flatten()})\n",
    "data.head(30)"
   ]
  },
  {
   "cell_type": "markdown",
   "id": "8c193704",
   "metadata": {},
   "source": [
    "Compare how the regression fits the training set"
   ]
  },
  {
   "cell_type": "code",
   "execution_count": null,
   "id": "f926654b",
   "metadata": {},
   "outputs": [],
   "source": [
    "# Predict.\n",
    "\n",
    "y_predicted_train = regression.predict(X_train) # This is predicting X_train!"
   ]
  },
  {
   "cell_type": "code",
   "execution_count": null,
   "id": "79382e32",
   "metadata": {},
   "outputs": [],
   "source": [
    "rmse = mean_squared_error(y_train, y_predicted_train)\n",
    "r2 = r2_score(y_train, y_predicted_train)"
   ]
  },
  {
   "cell_type": "code",
   "execution_count": null,
   "id": "f370ea8e",
   "metadata": {},
   "outputs": [],
   "source": [
    "print('Slope:' ,regression.coef_)\n",
    "print('Mean squared error: ', rmse)\n",
    "print('R2 score: ', r2)"
   ]
  },
  {
   "cell_type": "markdown",
   "id": "94bba29b",
   "metadata": {},
   "source": [
    "a positive slope of approximately 2.2055, implying a direct and positive relationship between  GDP per capita and happiness scores. The Mean Squared Error (MSE) is relatively low at about 0.4851, indicating that the model's predictions are, on average, close to the actual values. Additionally, the R2 score is 0.6232, signifying that approximately 62.3% of the variability in happiness scores can be explained by the model. "
   ]
  },
  {
   "cell_type": "code",
   "execution_count": null,
   "id": "6a10c3be",
   "metadata": {},
   "outputs": [],
   "source": [
    "# Visualizing the training set results.\n",
    "\n",
    "plot_test = plt\n",
    "plot_test.scatter(X_train, y_train, color='green', s = 15)\n",
    "plot_test.plot(X_train, y_predicted_train, color='red', linewidth =3)\n",
    "plot_test.title('GDP_capita vs Happiness_score (Train set)')\n",
    "plot_test.xlabel('GDP_capita')\n",
    "plot_test.ylabel('Happiness_score')\n",
    "plot_test.show()"
   ]
  },
  {
   "cell_type": "markdown",
   "id": "46d4ddfb",
   "metadata": {},
   "source": [
    "Comaparision:\n",
    "Both sets of results show a positive slope, indicating a positive relationship between GDP per capita and happiness scores. The mean squared errors are relatively close, with the first set having a slightly lower MSE (0.4645) compared to the second set (0.4851). The R2 scores are also similar, with the second set having a slightly higher R2 score (0.6232) compared to the first set (0.621).\n"
   ]
  },
  {
   "cell_type": "code",
   "execution_count": null,
   "id": "0ab37df2",
   "metadata": {},
   "outputs": [],
   "source": [
    "df.to_csv(os.path.join(path, '02 Data', 'Prepared Data', 'merge_all_years1.csv'))"
   ]
  },
  {
   "cell_type": "code",
   "execution_count": null,
   "id": "8ef5584f",
   "metadata": {},
   "outputs": [],
   "source": [
    "\n",
    "\n",
    "\n",
    "\n"
   ]
  },
  {
   "cell_type": "code",
   "execution_count": null,
   "id": "613bc40f",
   "metadata": {},
   "outputs": [],
   "source": []
  }
 ],
 "metadata": {
  "kernelspec": {
   "display_name": "Python 3 (ipykernel)",
   "language": "python",
   "name": "python3"
  },
  "language_info": {
   "codemirror_mode": {
    "name": "ipython",
    "version": 3
   },
   "file_extension": ".py",
   "mimetype": "text/x-python",
   "name": "python",
   "nbconvert_exporter": "python",
   "pygments_lexer": "ipython3",
   "version": "3.11.5"
  }
 },
 "nbformat": 4,
 "nbformat_minor": 5
}
